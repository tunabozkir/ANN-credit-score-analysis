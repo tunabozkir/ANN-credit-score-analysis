{
  "nbformat": 4,
  "nbformat_minor": 0,
  "metadata": {
    "colab": {
      "name": "CreditScore.ipynb",
      "provenance": [],
      "authorship_tag": "ABX9TyPDKCJUteTvqPybLppNYzgW",
      "include_colab_link": true
    },
    "kernelspec": {
      "name": "python3",
      "display_name": "Python 3"
    }
  },
  "cells": [
    {
      "cell_type": "markdown",
      "metadata": {
        "id": "view-in-github",
        "colab_type": "text"
      },
      "source": [
        "<a href=\"https://colab.research.google.com/github/tunabozkir/ANN-credit-score-analysis/blob/main/CreditScore.ipynb\" target=\"_parent\"><img src=\"https://colab.research.google.com/assets/colab-badge.svg\" alt=\"Open In Colab\"/></a>"
      ]
    },
    {
      "cell_type": "code",
      "metadata": {
        "id": "QZ9zN-OUpVjf"
      },
      "source": [
        "# First, import the necessary libraries\r\n",
        "import numpy as np\r\n",
        "import pandas as pd\r\n",
        "import matplotlib.pyplot as plt\r\n",
        "import seaborn as sns\r\n",
        "import warnings\r\n",
        "warnings.simplefilter(action=\"ignore\")"
      ],
      "execution_count": 1,
      "outputs": []
    },
    {
      "cell_type": "code",
      "metadata": {
        "colab": {
          "base_uri": "https://localhost:8080/",
          "height": 204
        },
        "id": "IYsYPLybpptT",
        "outputId": "55212068-1fc5-4c87-976a-45a6d9697d11"
      },
      "source": [
        "# Read the dataset and look at the first five records\r\n",
        "df = pd.read_csv(\"CreditScore.csv\")\r\n",
        "df.head()"
      ],
      "execution_count": 2,
      "outputs": [
        {
          "output_type": "execute_result",
          "data": {
            "text/html": [
              "<div>\n",
              "<style scoped>\n",
              "    .dataframe tbody tr th:only-of-type {\n",
              "        vertical-align: middle;\n",
              "    }\n",
              "\n",
              "    .dataframe tbody tr th {\n",
              "        vertical-align: top;\n",
              "    }\n",
              "\n",
              "    .dataframe thead th {\n",
              "        text-align: right;\n",
              "    }\n",
              "</style>\n",
              "<table border=\"1\" class=\"dataframe\">\n",
              "  <thead>\n",
              "    <tr style=\"text-align: right;\">\n",
              "      <th></th>\n",
              "      <th>Unnamed: 0</th>\n",
              "      <th>Status</th>\n",
              "      <th>Seniority</th>\n",
              "      <th>Home</th>\n",
              "      <th>Time</th>\n",
              "      <th>Age</th>\n",
              "      <th>Marital</th>\n",
              "      <th>Records</th>\n",
              "      <th>Job</th>\n",
              "      <th>Expenses</th>\n",
              "      <th>Income</th>\n",
              "      <th>Assets</th>\n",
              "      <th>Debt</th>\n",
              "      <th>Amount</th>\n",
              "      <th>Price</th>\n",
              "    </tr>\n",
              "  </thead>\n",
              "  <tbody>\n",
              "    <tr>\n",
              "      <th>0</th>\n",
              "      <td>0</td>\n",
              "      <td>good</td>\n",
              "      <td>9</td>\n",
              "      <td>rent</td>\n",
              "      <td>60</td>\n",
              "      <td>30</td>\n",
              "      <td>married</td>\n",
              "      <td>no_rec</td>\n",
              "      <td>freelance</td>\n",
              "      <td>73</td>\n",
              "      <td>129</td>\n",
              "      <td>0</td>\n",
              "      <td>0</td>\n",
              "      <td>800</td>\n",
              "      <td>846</td>\n",
              "    </tr>\n",
              "    <tr>\n",
              "      <th>1</th>\n",
              "      <td>1</td>\n",
              "      <td>good</td>\n",
              "      <td>17</td>\n",
              "      <td>rent</td>\n",
              "      <td>60</td>\n",
              "      <td>58</td>\n",
              "      <td>widow</td>\n",
              "      <td>no_rec</td>\n",
              "      <td>fixed</td>\n",
              "      <td>48</td>\n",
              "      <td>131</td>\n",
              "      <td>0</td>\n",
              "      <td>0</td>\n",
              "      <td>1000</td>\n",
              "      <td>1658</td>\n",
              "    </tr>\n",
              "    <tr>\n",
              "      <th>2</th>\n",
              "      <td>2</td>\n",
              "      <td>bad</td>\n",
              "      <td>10</td>\n",
              "      <td>owner</td>\n",
              "      <td>36</td>\n",
              "      <td>46</td>\n",
              "      <td>married</td>\n",
              "      <td>yes_rec</td>\n",
              "      <td>freelance</td>\n",
              "      <td>90</td>\n",
              "      <td>200</td>\n",
              "      <td>3000</td>\n",
              "      <td>0</td>\n",
              "      <td>2000</td>\n",
              "      <td>2985</td>\n",
              "    </tr>\n",
              "    <tr>\n",
              "      <th>3</th>\n",
              "      <td>3</td>\n",
              "      <td>good</td>\n",
              "      <td>0</td>\n",
              "      <td>rent</td>\n",
              "      <td>60</td>\n",
              "      <td>24</td>\n",
              "      <td>single</td>\n",
              "      <td>no_rec</td>\n",
              "      <td>fixed</td>\n",
              "      <td>63</td>\n",
              "      <td>182</td>\n",
              "      <td>2500</td>\n",
              "      <td>0</td>\n",
              "      <td>900</td>\n",
              "      <td>1325</td>\n",
              "    </tr>\n",
              "    <tr>\n",
              "      <th>4</th>\n",
              "      <td>4</td>\n",
              "      <td>good</td>\n",
              "      <td>0</td>\n",
              "      <td>rent</td>\n",
              "      <td>36</td>\n",
              "      <td>26</td>\n",
              "      <td>single</td>\n",
              "      <td>no_rec</td>\n",
              "      <td>fixed</td>\n",
              "      <td>46</td>\n",
              "      <td>107</td>\n",
              "      <td>0</td>\n",
              "      <td>0</td>\n",
              "      <td>310</td>\n",
              "      <td>910</td>\n",
              "    </tr>\n",
              "  </tbody>\n",
              "</table>\n",
              "</div>"
            ],
            "text/plain": [
              "   Unnamed: 0 Status  Seniority   Home  ...  Assets  Debt Amount Price\n",
              "0           0   good          9   rent  ...       0     0    800   846\n",
              "1           1   good         17   rent  ...       0     0   1000  1658\n",
              "2           2    bad         10  owner  ...    3000     0   2000  2985\n",
              "3           3   good          0   rent  ...    2500     0    900  1325\n",
              "4           4   good          0   rent  ...       0     0    310   910\n",
              "\n",
              "[5 rows x 15 columns]"
            ]
          },
          "metadata": {
            "tags": []
          },
          "execution_count": 2
        }
      ]
    },
    {
      "cell_type": "code",
      "metadata": {
        "colab": {
          "base_uri": "https://localhost:8080/"
        },
        "id": "Dp2UUNCk9q2-",
        "outputId": "f2c6ff09-b8cf-4d20-ad09-10e8d529e107"
      },
      "source": [
        "# Look at the shape of dataset\r\n",
        "df.shape"
      ],
      "execution_count": 3,
      "outputs": [
        {
          "output_type": "execute_result",
          "data": {
            "text/plain": [
              "(4446, 15)"
            ]
          },
          "metadata": {
            "tags": []
          },
          "execution_count": 3
        }
      ]
    },
    {
      "cell_type": "code",
      "metadata": {
        "id": "OAeEFz5Z21uz"
      },
      "source": [
        "# Drop the unnecessary feature\r\n",
        "df = df.drop([\"Unnamed: 0\"],axis=1)"
      ],
      "execution_count": 4,
      "outputs": []
    },
    {
      "cell_type": "code",
      "metadata": {
        "colab": {
          "base_uri": "https://localhost:8080/"
        },
        "id": "ZdJdgzsrqMpj",
        "outputId": "4648ae7c-1271-4492-afad-d0dc12e6475b"
      },
      "source": [
        "# Check the dataset whether it has any NAN value(s) or not\r\n",
        "df.isnull().sum()"
      ],
      "execution_count": 5,
      "outputs": [
        {
          "output_type": "execute_result",
          "data": {
            "text/plain": [
              "Status       0\n",
              "Seniority    0\n",
              "Home         0\n",
              "Time         0\n",
              "Age          0\n",
              "Marital      0\n",
              "Records      0\n",
              "Job          0\n",
              "Expenses     0\n",
              "Income       0\n",
              "Assets       0\n",
              "Debt         0\n",
              "Amount       0\n",
              "Price        0\n",
              "dtype: int64"
            ]
          },
          "metadata": {
            "tags": []
          },
          "execution_count": 5
        }
      ]
    },
    {
      "cell_type": "code",
      "metadata": {
        "colab": {
          "base_uri": "https://localhost:8080/"
        },
        "id": "zZ_s3sOOqivy",
        "outputId": "13c7d218-7fed-4289-ee35-952f99232704"
      },
      "source": [
        "# Check my dataset whether imbalanced or not\r\n",
        "df[\"Status\"].value_counts() / len(df)"
      ],
      "execution_count": 6,
      "outputs": [
        {
          "output_type": "execute_result",
          "data": {
            "text/plain": [
              "good    0.719073\n",
              "bad     0.280927\n",
              "Name: Status, dtype: float64"
            ]
          },
          "metadata": {
            "tags": []
          },
          "execution_count": 6
        }
      ]
    },
    {
      "cell_type": "code",
      "metadata": {
        "colab": {
          "base_uri": "https://localhost:8080/"
        },
        "id": "x9NP46b1t8XD",
        "outputId": "70869a65-56ce-446a-a248-b0ee1fd4669b"
      },
      "source": [
        "for i in df[[\"Status\",\"Home\",\"Marital\",\"Records\",\"Job\"]]:\r\n",
        "  print(df[i].nunique())"
      ],
      "execution_count": 7,
      "outputs": [
        {
          "output_type": "stream",
          "text": [
            "2\n",
            "6\n",
            "5\n",
            "2\n",
            "4\n"
          ],
          "name": "stdout"
        }
      ]
    },
    {
      "cell_type": "code",
      "metadata": {
        "colab": {
          "base_uri": "https://localhost:8080/",
          "height": 1000
        },
        "id": "Z1wkuz-7xNCU",
        "outputId": "10497d27-2b37-4277-fab1-48f6929a60f1"
      },
      "source": [
        "# Look at the count for each categorical feature\r\n",
        "for i in df[[\"Status\",\"Home\",\"Marital\",\"Records\",\"Job\"]]:\r\n",
        "  plt.figure(figsize=(8,8))\r\n",
        "  sns.countplot(df[i],order=df[i].value_counts().index);\r\n",
        "  plt.tight_layout()"
      ],
      "execution_count": 8,
      "outputs": [
        {
          "output_type": "display_data",
          "data": {
            "image/png": "[encoded data removed]",
            "text/plain": [
              "<Figure size 576x576 with 1 Axes>"
            ]
          },
          "metadata": {
            "tags": [],
            "needs_background": "light"
          }
        },
        {
          "output_type": "display_data",
          "data": {
            "image/png": "[encoded data removed]",
            "text/plain": [
              "<Figure size 576x576 with 1 Axes>"
            ]
          },
          "metadata": {
            "tags": [],
            "needs_background": "light"
          }
        },
        {
          "output_type": "display_data",
          "data": {
            "image/png": "[encoded data removed]",
            "text/plain": [
              "<Figure size 576x576 with 1 Axes>"
            ]
          },
          "metadata": {
            "tags": [],
            "needs_background": "light"
          }
        },
        {
          "output_type": "display_data",
          "data": {
            "image/png": "[encoded data removed]",
            "text/plain": [
              "<Figure size 576x576 with 1 Axes>"
            ]
          },
          "metadata": {
            "tags": [],
            "needs_background": "light"
          }
        },
        {
          "output_type": "display_data",
          "data": {
            "image/png": "[encoded data removed]",
            "text/plain": [
              "<Figure size 576x576 with 1 Axes>"
            ]
          },
          "metadata": {
            "tags": [],
            "needs_background": "light"
          }
        }
      ]
    },
    {
      "cell_type": "code",
      "metadata": {
        "id": "mjMGHsu20G8W"
      },
      "source": [
        "# Apply One Hot Encoding for Status and Records features\r\n",
        "df[\"Status\"] = pd.get_dummies(df[\"Status\"],drop_first=True)\r\n",
        "df[\"Records\"] = pd.get_dummies(df[\"Records\"],drop_first=True)"
      ],
      "execution_count": 9,
      "outputs": []
    },
    {
      "cell_type": "code",
      "metadata": {
        "colab": {
          "base_uri": "https://localhost:8080/",
          "height": 204
        },
        "id": "HTIR_pdp2bVX",
        "outputId": "39ce506c-a63e-401d-b68a-bc3ee0ee9e04"
      },
      "source": [
        "df.head()"
      ],
      "execution_count": 10,
      "outputs": [
        {
          "output_type": "execute_result",
          "data": {
            "text/html": [
              "<div>\n",
              "<style scoped>\n",
              "    .dataframe tbody tr th:only-of-type {\n",
              "        vertical-align: middle;\n",
              "    }\n",
              "\n",
              "    .dataframe tbody tr th {\n",
              "        vertical-align: top;\n",
              "    }\n",
              "\n",
              "    .dataframe thead th {\n",
              "        text-align: right;\n",
              "    }\n",
              "</style>\n",
              "<table border=\"1\" class=\"dataframe\">\n",
              "  <thead>\n",
              "    <tr style=\"text-align: right;\">\n",
              "      <th></th>\n",
              "      <th>Status</th>\n",
              "      <th>Seniority</th>\n",
              "      <th>Home</th>\n",
              "      <th>Time</th>\n",
              "      <th>Age</th>\n",
              "      <th>Marital</th>\n",
              "      <th>Records</th>\n",
              "      <th>Job</th>\n",
              "      <th>Expenses</th>\n",
              "      <th>Income</th>\n",
              "      <th>Assets</th>\n",
              "      <th>Debt</th>\n",
              "      <th>Amount</th>\n",
              "      <th>Price</th>\n",
              "    </tr>\n",
              "  </thead>\n",
              "  <tbody>\n",
              "    <tr>\n",
              "      <th>0</th>\n",
              "      <td>1</td>\n",
              "      <td>9</td>\n",
              "      <td>rent</td>\n",
              "      <td>60</td>\n",
              "      <td>30</td>\n",
              "      <td>married</td>\n",
              "      <td>0</td>\n",
              "      <td>freelance</td>\n",
              "      <td>73</td>\n",
              "      <td>129</td>\n",
              "      <td>0</td>\n",
              "      <td>0</td>\n",
              "      <td>800</td>\n",
              "      <td>846</td>\n",
              "    </tr>\n",
              "    <tr>\n",
              "      <th>1</th>\n",
              "      <td>1</td>\n",
              "      <td>17</td>\n",
              "      <td>rent</td>\n",
              "      <td>60</td>\n",
              "      <td>58</td>\n",
              "      <td>widow</td>\n",
              "      <td>0</td>\n",
              "      <td>fixed</td>\n",
              "      <td>48</td>\n",
              "      <td>131</td>\n",
              "      <td>0</td>\n",
              "      <td>0</td>\n",
              "      <td>1000</td>\n",
              "      <td>1658</td>\n",
              "    </tr>\n",
              "    <tr>\n",
              "      <th>2</th>\n",
              "      <td>0</td>\n",
              "      <td>10</td>\n",
              "      <td>owner</td>\n",
              "      <td>36</td>\n",
              "      <td>46</td>\n",
              "      <td>married</td>\n",
              "      <td>1</td>\n",
              "      <td>freelance</td>\n",
              "      <td>90</td>\n",
              "      <td>200</td>\n",
              "      <td>3000</td>\n",
              "      <td>0</td>\n",
              "      <td>2000</td>\n",
              "      <td>2985</td>\n",
              "    </tr>\n",
              "    <tr>\n",
              "      <th>3</th>\n",
              "      <td>1</td>\n",
              "      <td>0</td>\n",
              "      <td>rent</td>\n",
              "      <td>60</td>\n",
              "      <td>24</td>\n",
              "      <td>single</td>\n",
              "      <td>0</td>\n",
              "      <td>fixed</td>\n",
              "      <td>63</td>\n",
              "      <td>182</td>\n",
              "      <td>2500</td>\n",
              "      <td>0</td>\n",
              "      <td>900</td>\n",
              "      <td>1325</td>\n",
              "    </tr>\n",
              "    <tr>\n",
              "      <th>4</th>\n",
              "      <td>1</td>\n",
              "      <td>0</td>\n",
              "      <td>rent</td>\n",
              "      <td>36</td>\n",
              "      <td>26</td>\n",
              "      <td>single</td>\n",
              "      <td>0</td>\n",
              "      <td>fixed</td>\n",
              "      <td>46</td>\n",
              "      <td>107</td>\n",
              "      <td>0</td>\n",
              "      <td>0</td>\n",
              "      <td>310</td>\n",
              "      <td>910</td>\n",
              "    </tr>\n",
              "  </tbody>\n",
              "</table>\n",
              "</div>"
            ],
            "text/plain": [
              "   Status  Seniority   Home  Time  Age  ... Income  Assets Debt  Amount  Price\n",
              "0       1          9   rent    60   30  ...    129       0    0     800    846\n",
              "1       1         17   rent    60   58  ...    131       0    0    1000   1658\n",
              "2       0         10  owner    36   46  ...    200    3000    0    2000   2985\n",
              "3       1          0   rent    60   24  ...    182    2500    0     900   1325\n",
              "4       1          0   rent    36   26  ...    107       0    0     310    910\n",
              "\n",
              "[5 rows x 14 columns]"
            ]
          },
          "metadata": {
            "tags": []
          },
          "execution_count": 10
        }
      ]
    },
    {
      "cell_type": "code",
      "metadata": {
        "id": "xUjXucf_2cPz"
      },
      "source": [
        "# Apply Label Encoding for Home, Marital, and Job features\r\n",
        "home_dict = {\"owner\":5,\"rent\":4,\"parents\":3,\"other\":2,\"priv\":1,\"ignore\":0}\r\n",
        "df[\"Home\"] = df[\"Home\"].map(home_dict)\r\n",
        "marital_dict = {\"married\":4,\"single\":3,\"separated\":2,\"widow\":1,\"divorced\":0}\r\n",
        "df[\"Marital\"] = df[\"Marital\"].map(marital_dict)\r\n",
        "job_dict = {\"fixed\":3,\"freelance\":2,\"partime\":1,\"others\":0}\r\n",
        "df[\"Job\"] = df[\"Job\"].map(job_dict)"
      ],
      "execution_count": 11,
      "outputs": []
    },
    {
      "cell_type": "code",
      "metadata": {
        "colab": {
          "base_uri": "https://localhost:8080/",
          "height": 204
        },
        "id": "f6-__HX44KrN",
        "outputId": "405b64cd-fe42-4f70-a27e-88ee48746342"
      },
      "source": [
        "df.head()"
      ],
      "execution_count": 12,
      "outputs": [
        {
          "output_type": "execute_result",
          "data": {
            "text/html": [
              "<div>\n",
              "<style scoped>\n",
              "    .dataframe tbody tr th:only-of-type {\n",
              "        vertical-align: middle;\n",
              "    }\n",
              "\n",
              "    .dataframe tbody tr th {\n",
              "        vertical-align: top;\n",
              "    }\n",
              "\n",
              "    .dataframe thead th {\n",
              "        text-align: right;\n",
              "    }\n",
              "</style>\n",
              "<table border=\"1\" class=\"dataframe\">\n",
              "  <thead>\n",
              "    <tr style=\"text-align: right;\">\n",
              "      <th></th>\n",
              "      <th>Status</th>\n",
              "      <th>Seniority</th>\n",
              "      <th>Home</th>\n",
              "      <th>Time</th>\n",
              "      <th>Age</th>\n",
              "      <th>Marital</th>\n",
              "      <th>Records</th>\n",
              "      <th>Job</th>\n",
              "      <th>Expenses</th>\n",
              "      <th>Income</th>\n",
              "      <th>Assets</th>\n",
              "      <th>Debt</th>\n",
              "      <th>Amount</th>\n",
              "      <th>Price</th>\n",
              "    </tr>\n",
              "  </thead>\n",
              "  <tbody>\n",
              "    <tr>\n",
              "      <th>0</th>\n",
              "      <td>1</td>\n",
              "      <td>9</td>\n",
              "      <td>4</td>\n",
              "      <td>60</td>\n",
              "      <td>30</td>\n",
              "      <td>4</td>\n",
              "      <td>0</td>\n",
              "      <td>2</td>\n",
              "      <td>73</td>\n",
              "      <td>129</td>\n",
              "      <td>0</td>\n",
              "      <td>0</td>\n",
              "      <td>800</td>\n",
              "      <td>846</td>\n",
              "    </tr>\n",
              "    <tr>\n",
              "      <th>1</th>\n",
              "      <td>1</td>\n",
              "      <td>17</td>\n",
              "      <td>4</td>\n",
              "      <td>60</td>\n",
              "      <td>58</td>\n",
              "      <td>1</td>\n",
              "      <td>0</td>\n",
              "      <td>3</td>\n",
              "      <td>48</td>\n",
              "      <td>131</td>\n",
              "      <td>0</td>\n",
              "      <td>0</td>\n",
              "      <td>1000</td>\n",
              "      <td>1658</td>\n",
              "    </tr>\n",
              "    <tr>\n",
              "      <th>2</th>\n",
              "      <td>0</td>\n",
              "      <td>10</td>\n",
              "      <td>5</td>\n",
              "      <td>36</td>\n",
              "      <td>46</td>\n",
              "      <td>4</td>\n",
              "      <td>1</td>\n",
              "      <td>2</td>\n",
              "      <td>90</td>\n",
              "      <td>200</td>\n",
              "      <td>3000</td>\n",
              "      <td>0</td>\n",
              "      <td>2000</td>\n",
              "      <td>2985</td>\n",
              "    </tr>\n",
              "    <tr>\n",
              "      <th>3</th>\n",
              "      <td>1</td>\n",
              "      <td>0</td>\n",
              "      <td>4</td>\n",
              "      <td>60</td>\n",
              "      <td>24</td>\n",
              "      <td>3</td>\n",
              "      <td>0</td>\n",
              "      <td>3</td>\n",
              "      <td>63</td>\n",
              "      <td>182</td>\n",
              "      <td>2500</td>\n",
              "      <td>0</td>\n",
              "      <td>900</td>\n",
              "      <td>1325</td>\n",
              "    </tr>\n",
              "    <tr>\n",
              "      <th>4</th>\n",
              "      <td>1</td>\n",
              "      <td>0</td>\n",
              "      <td>4</td>\n",
              "      <td>36</td>\n",
              "      <td>26</td>\n",
              "      <td>3</td>\n",
              "      <td>0</td>\n",
              "      <td>3</td>\n",
              "      <td>46</td>\n",
              "      <td>107</td>\n",
              "      <td>0</td>\n",
              "      <td>0</td>\n",
              "      <td>310</td>\n",
              "      <td>910</td>\n",
              "    </tr>\n",
              "  </tbody>\n",
              "</table>\n",
              "</div>"
            ],
            "text/plain": [
              "   Status  Seniority  Home  Time  Age  ...  Income  Assets  Debt  Amount  Price\n",
              "0       1          9     4    60   30  ...     129       0     0     800    846\n",
              "1       1         17     4    60   58  ...     131       0     0    1000   1658\n",
              "2       0         10     5    36   46  ...     200    3000     0    2000   2985\n",
              "3       1          0     4    60   24  ...     182    2500     0     900   1325\n",
              "4       1          0     4    36   26  ...     107       0     0     310    910\n",
              "\n",
              "[5 rows x 14 columns]"
            ]
          },
          "metadata": {
            "tags": []
          },
          "execution_count": 12
        }
      ]
    },
    {
      "cell_type": "code",
      "metadata": {
        "colab": {
          "base_uri": "https://localhost:8080/",
          "height": 1000
        },
        "id": "z2t5wf3-4ajC",
        "outputId": "119b3eed-9596-4d9c-8e27-2ad15b941b91"
      },
      "source": [
        "# Would like to see the distribution of continuous features\r\n",
        "for i in df[[\"Income\",\"Assets\",\"Debt\",\"Amount\",\"Price\"]]:\r\n",
        "  plt.figure(figsize=(7,7))\r\n",
        "  sns.distplot(df[i])"
      ],
      "execution_count": 13,
      "outputs": [
        {
          "output_type": "display_data",
          "data": {
            "image/png": "[encoded data removed]",
            "text/plain": [
              "<Figure size 504x504 with 1 Axes>"
            ]
          },
          "metadata": {
            "tags": [],
            "needs_background": "light"
          }
        },
        {
          "output_type": "display_data",
          "data": {
            "image/png": "[encoded data removed]",
            "text/plain": [
              "<Figure size 504x504 with 1 Axes>"
            ]
          },
          "metadata": {
            "tags": [],
            "needs_background": "light"
          }
        },
        {
          "output_type": "display_data",
          "data": {
            "image/png": "[encoded data removed]",
            "text/plain": [
              "<Figure size 504x504 with 1 Axes>"
            ]
          },
          "metadata": {
            "tags": [],
            "needs_background": "light"
          }
        },
        {
          "output_type": "display_data",
          "data": {
            "image/png": "[encoded data removed]",
            "text/plain": [
              "<Figure size 504x504 with 1 Axes>"
            ]
          },
          "metadata": {
            "tags": [],
            "needs_background": "light"
          }
        },
        {
          "output_type": "display_data",
          "data": {
            "image/png": "[encoded data removed]",
            "text/plain": [
              "<Figure size 504x504 with 1 Axes>"
            ]
          },
          "metadata": {
            "tags": [],
            "needs_background": "light"
          }
        }
      ]
    },
    {
      "cell_type": "code",
      "metadata": {
        "colab": {
          "base_uri": "https://localhost:8080/",
          "height": 1000
        },
        "id": "976CF1Q05_Ri",
        "outputId": "f4808545-3de0-46f9-f552-b29e3fb275a6"
      },
      "source": [
        "for i in df[[\"Seniority\",\"Time\",\"Age\",\"Expenses\"]]:\r\n",
        "  plt.figure(figsize=(8,8))\r\n",
        "  sns.countplot(df[i],order=df[i].value_counts().head(10).index);\r\n",
        "  plt.tight_layout()"
      ],
      "execution_count": 14,
      "outputs": [
        {
          "output_type": "display_data",
          "data": {
            "image/png": "[encoded data removed]",
            "text/plain": [
              "<Figure size 576x576 with 1 Axes>"
            ]
          },
          "metadata": {
            "tags": [],
            "needs_background": "light"
          }
        },
        {
          "output_type": "display_data",
          "data": {
            "image/png": "[encoded data removed]",
            "text/plain": [
              "<Figure size 576x576 with 1 Axes>"
            ]
          },
          "metadata": {
            "tags": [],
            "needs_background": "light"
          }
        },
        {
          "output_type": "display_data",
          "data": {
            "image/png": "[encoded data removed]",
            "text/plain": [
              "<Figure size 576x576 with 1 Axes>"
            ]
          },
          "metadata": {
            "tags": [],
            "needs_background": "light"
          }
        },
        {
          "output_type": "display_data",
          "data": {
            "image/png": "[encoded data removed]",
            "text/plain": [
              "<Figure size 576x576 with 1 Axes>"
            ]
          },
          "metadata": {
            "tags": [],
            "needs_background": "light"
          }
        }
      ]
    },
    {
      "cell_type": "markdown",
      "metadata": {
        "id": "NzhkwaPj-CW5"
      },
      "source": [
        "#### Now, my dataset is ready to implement ANN model"
      ]
    },
    {
      "cell_type": "code",
      "metadata": {
        "colab": {
          "base_uri": "https://localhost:8080/",
          "height": 204
        },
        "id": "6AdyauQv8ExC",
        "outputId": "948ccb29-6ea2-4d8a-ee3f-20254075f8dd"
      },
      "source": [
        "df.head()"
      ],
      "execution_count": 15,
      "outputs": [
        {
          "output_type": "execute_result",
          "data": {
            "text/html": [
              "<div>\n",
              "<style scoped>\n",
              "    .dataframe tbody tr th:only-of-type {\n",
              "        vertical-align: middle;\n",
              "    }\n",
              "\n",
              "    .dataframe tbody tr th {\n",
              "        vertical-align: top;\n",
              "    }\n",
              "\n",
              "    .dataframe thead th {\n",
              "        text-align: right;\n",
              "    }\n",
              "</style>\n",
              "<table border=\"1\" class=\"dataframe\">\n",
              "  <thead>\n",
              "    <tr style=\"text-align: right;\">\n",
              "      <th></th>\n",
              "      <th>Status</th>\n",
              "      <th>Seniority</th>\n",
              "      <th>Home</th>\n",
              "      <th>Time</th>\n",
              "      <th>Age</th>\n",
              "      <th>Marital</th>\n",
              "      <th>Records</th>\n",
              "      <th>Job</th>\n",
              "      <th>Expenses</th>\n",
              "      <th>Income</th>\n",
              "      <th>Assets</th>\n",
              "      <th>Debt</th>\n",
              "      <th>Amount</th>\n",
              "      <th>Price</th>\n",
              "    </tr>\n",
              "  </thead>\n",
              "  <tbody>\n",
              "    <tr>\n",
              "      <th>0</th>\n",
              "      <td>1</td>\n",
              "      <td>9</td>\n",
              "      <td>4</td>\n",
              "      <td>60</td>\n",
              "      <td>30</td>\n",
              "      <td>4</td>\n",
              "      <td>0</td>\n",
              "      <td>2</td>\n",
              "      <td>73</td>\n",
              "      <td>129</td>\n",
              "      <td>0</td>\n",
              "      <td>0</td>\n",
              "      <td>800</td>\n",
              "      <td>846</td>\n",
              "    </tr>\n",
              "    <tr>\n",
              "      <th>1</th>\n",
              "      <td>1</td>\n",
              "      <td>17</td>\n",
              "      <td>4</td>\n",
              "      <td>60</td>\n",
              "      <td>58</td>\n",
              "      <td>1</td>\n",
              "      <td>0</td>\n",
              "      <td>3</td>\n",
              "      <td>48</td>\n",
              "      <td>131</td>\n",
              "      <td>0</td>\n",
              "      <td>0</td>\n",
              "      <td>1000</td>\n",
              "      <td>1658</td>\n",
              "    </tr>\n",
              "    <tr>\n",
              "      <th>2</th>\n",
              "      <td>0</td>\n",
              "      <td>10</td>\n",
              "      <td>5</td>\n",
              "      <td>36</td>\n",
              "      <td>46</td>\n",
              "      <td>4</td>\n",
              "      <td>1</td>\n",
              "      <td>2</td>\n",
              "      <td>90</td>\n",
              "      <td>200</td>\n",
              "      <td>3000</td>\n",
              "      <td>0</td>\n",
              "      <td>2000</td>\n",
              "      <td>2985</td>\n",
              "    </tr>\n",
              "    <tr>\n",
              "      <th>3</th>\n",
              "      <td>1</td>\n",
              "      <td>0</td>\n",
              "      <td>4</td>\n",
              "      <td>60</td>\n",
              "      <td>24</td>\n",
              "      <td>3</td>\n",
              "      <td>0</td>\n",
              "      <td>3</td>\n",
              "      <td>63</td>\n",
              "      <td>182</td>\n",
              "      <td>2500</td>\n",
              "      <td>0</td>\n",
              "      <td>900</td>\n",
              "      <td>1325</td>\n",
              "    </tr>\n",
              "    <tr>\n",
              "      <th>4</th>\n",
              "      <td>1</td>\n",
              "      <td>0</td>\n",
              "      <td>4</td>\n",
              "      <td>36</td>\n",
              "      <td>26</td>\n",
              "      <td>3</td>\n",
              "      <td>0</td>\n",
              "      <td>3</td>\n",
              "      <td>46</td>\n",
              "      <td>107</td>\n",
              "      <td>0</td>\n",
              "      <td>0</td>\n",
              "      <td>310</td>\n",
              "      <td>910</td>\n",
              "    </tr>\n",
              "  </tbody>\n",
              "</table>\n",
              "</div>"
            ],
            "text/plain": [
              "   Status  Seniority  Home  Time  Age  ...  Income  Assets  Debt  Amount  Price\n",
              "0       1          9     4    60   30  ...     129       0     0     800    846\n",
              "1       1         17     4    60   58  ...     131       0     0    1000   1658\n",
              "2       0         10     5    36   46  ...     200    3000     0    2000   2985\n",
              "3       1          0     4    60   24  ...     182    2500     0     900   1325\n",
              "4       1          0     4    36   26  ...     107       0     0     310    910\n",
              "\n",
              "[5 rows x 14 columns]"
            ]
          },
          "metadata": {
            "tags": []
          },
          "execution_count": 15
        }
      ]
    },
    {
      "cell_type": "code",
      "metadata": {
        "id": "kT8TIFWI98-h"
      },
      "source": [
        "# Identify the independent features(X) and the dependent feature(y)\r\n",
        "X = df.drop(\"Status\",axis=1)\r\n",
        "y = df[\"Status\"]"
      ],
      "execution_count": 16,
      "outputs": []
    },
    {
      "cell_type": "code",
      "metadata": {
        "id": "Fwck3LiE-QqT"
      },
      "source": [
        "# Split the dataset into Training and Test set, and use stratify parameter to make equal split in my dependent feature\r\n",
        "from sklearn.model_selection import train_test_split\r\n",
        "X_train, X_test, y_train, y_test = train_test_split(X, y, test_size=0.3, random_state=0, stratify=y) "
      ],
      "execution_count": 17,
      "outputs": []
    },
    {
      "cell_type": "code",
      "metadata": {
        "id": "uMo1UeLs-XIj"
      },
      "source": [
        "# Standardize my independent features\r\n",
        "from sklearn.preprocessing import StandardScaler\r\n",
        "scaler = StandardScaler()\r\n",
        "X_train = scaler.fit_transform(X_train)\r\n",
        "X_test = scaler.transform(X_test)"
      ],
      "execution_count": 18,
      "outputs": []
    },
    {
      "cell_type": "code",
      "metadata": {
        "id": "s4KvF-g_-iZR"
      },
      "source": [
        "# Import the necessary libraries for ANN model\r\n",
        "from tensorflow.keras.models import Sequential\r\n",
        "from tensorflow.keras.layers import Dense"
      ],
      "execution_count": 19,
      "outputs": []
    },
    {
      "cell_type": "code",
      "metadata": {
        "id": "FD_FFQdA-oUC"
      },
      "source": [
        "# Create a Sequential Neural Network model \r\n",
        "model = Sequential()"
      ],
      "execution_count": 20,
      "outputs": []
    },
    {
      "cell_type": "code",
      "metadata": {
        "id": "dDax6Xzn-qYV"
      },
      "source": [
        "# Create an Input and a Hidden Layer\r\n",
        "model.add(Dense(units=50,activation=\"relu\",kernel_initializer=\"he_uniform\"))"
      ],
      "execution_count": 21,
      "outputs": []
    },
    {
      "cell_type": "code",
      "metadata": {
        "id": "jThlR_sT-zUz"
      },
      "source": [
        "# Create an Output Layer\r\n",
        "model.add(Dense(units=1,activation=\"sigmoid\"))"
      ],
      "execution_count": 22,
      "outputs": []
    },
    {
      "cell_type": "code",
      "metadata": {
        "id": "ge_66dl8-6Zz"
      },
      "source": [
        "# Now, my model is ready to compile\r\n",
        "model.compile(optimizer=\"adam\",loss=\"binary_crossentropy\",metrics=[\"accuracy\"])"
      ],
      "execution_count": 23,
      "outputs": []
    },
    {
      "cell_type": "code",
      "metadata": {
        "colab": {
          "base_uri": "https://localhost:8080/"
        },
        "id": "En3-iogu_DXD",
        "outputId": "f9f9d806-fa9e-48f9-8067-f106ebaa7c3f"
      },
      "source": [
        "model.fit(X_train,y_train,batch_size=64,epochs=100)"
      ],
      "execution_count": 24,
      "outputs": [
        {
          "output_type": "stream",
          "text": [
            "Epoch 1/100\n",
            "49/49 [==============================] - 1s 1ms/step - loss: 0.9151 - accuracy: 0.5257\n",
            "Epoch 2/100\n",
            "49/49 [==============================] - 0s 1ms/step - loss: 0.6744 - accuracy: 0.6826\n",
            "Epoch 3/100\n",
            "49/49 [==============================] - 0s 1ms/step - loss: 0.5540 - accuracy: 0.7455\n",
            "Epoch 4/100\n",
            "49/49 [==============================] - 0s 1ms/step - loss: 0.4876 - accuracy: 0.7730\n",
            "Epoch 5/100\n",
            "49/49 [==============================] - 0s 1ms/step - loss: 0.4856 - accuracy: 0.7762\n",
            "Epoch 6/100\n",
            "49/49 [==============================] - 0s 1ms/step - loss: 0.4639 - accuracy: 0.7840\n",
            "Epoch 7/100\n",
            "49/49 [==============================] - 0s 1ms/step - loss: 0.4604 - accuracy: 0.7856\n",
            "Epoch 8/100\n",
            "49/49 [==============================] - 0s 1ms/step - loss: 0.4495 - accuracy: 0.7855\n",
            "Epoch 9/100\n",
            "49/49 [==============================] - 0s 1ms/step - loss: 0.4431 - accuracy: 0.7950\n",
            "Epoch 10/100\n",
            "49/49 [==============================] - 0s 2ms/step - loss: 0.4392 - accuracy: 0.7863\n",
            "Epoch 11/100\n",
            "49/49 [==============================] - 0s 1ms/step - loss: 0.4331 - accuracy: 0.8008\n",
            "Epoch 12/100\n",
            "49/49 [==============================] - 0s 1ms/step - loss: 0.4434 - accuracy: 0.7868\n",
            "Epoch 13/100\n",
            "49/49 [==============================] - 0s 1ms/step - loss: 0.4129 - accuracy: 0.8105\n",
            "Epoch 14/100\n",
            "49/49 [==============================] - 0s 1ms/step - loss: 0.4284 - accuracy: 0.7991\n",
            "Epoch 15/100\n",
            "49/49 [==============================] - 0s 1ms/step - loss: 0.4226 - accuracy: 0.7954\n",
            "Epoch 16/100\n",
            "49/49 [==============================] - 0s 1ms/step - loss: 0.4238 - accuracy: 0.8055\n",
            "Epoch 17/100\n",
            "49/49 [==============================] - 0s 1ms/step - loss: 0.4452 - accuracy: 0.7839\n",
            "Epoch 18/100\n",
            "49/49 [==============================] - 0s 1ms/step - loss: 0.4104 - accuracy: 0.8093\n",
            "Epoch 19/100\n",
            "49/49 [==============================] - 0s 1ms/step - loss: 0.4153 - accuracy: 0.8032\n",
            "Epoch 20/100\n",
            "49/49 [==============================] - 0s 1ms/step - loss: 0.4201 - accuracy: 0.8047\n",
            "Epoch 21/100\n",
            "49/49 [==============================] - 0s 1ms/step - loss: 0.4118 - accuracy: 0.8068\n",
            "Epoch 22/100\n",
            "49/49 [==============================] - 0s 1ms/step - loss: 0.4090 - accuracy: 0.8069\n",
            "Epoch 23/100\n",
            "49/49 [==============================] - 0s 1ms/step - loss: 0.4163 - accuracy: 0.8043\n",
            "Epoch 24/100\n",
            "49/49 [==============================] - 0s 1ms/step - loss: 0.4094 - accuracy: 0.8151\n",
            "Epoch 25/100\n",
            "49/49 [==============================] - 0s 1ms/step - loss: 0.4130 - accuracy: 0.8169\n",
            "Epoch 26/100\n",
            "49/49 [==============================] - 0s 1ms/step - loss: 0.4111 - accuracy: 0.8068\n",
            "Epoch 27/100\n",
            "49/49 [==============================] - 0s 2ms/step - loss: 0.4012 - accuracy: 0.8164\n",
            "Epoch 28/100\n",
            "49/49 [==============================] - 0s 1ms/step - loss: 0.3867 - accuracy: 0.8284\n",
            "Epoch 29/100\n",
            "49/49 [==============================] - 0s 1ms/step - loss: 0.4234 - accuracy: 0.7989\n",
            "Epoch 30/100\n",
            "49/49 [==============================] - 0s 2ms/step - loss: 0.4067 - accuracy: 0.8102\n",
            "Epoch 31/100\n",
            "49/49 [==============================] - 0s 1ms/step - loss: 0.4037 - accuracy: 0.8145\n",
            "Epoch 32/100\n",
            "49/49 [==============================] - 0s 1ms/step - loss: 0.3949 - accuracy: 0.8121\n",
            "Epoch 33/100\n",
            "49/49 [==============================] - 0s 1ms/step - loss: 0.4050 - accuracy: 0.8063\n",
            "Epoch 34/100\n",
            "49/49 [==============================] - 0s 1ms/step - loss: 0.4077 - accuracy: 0.8113\n",
            "Epoch 35/100\n",
            "49/49 [==============================] - 0s 1ms/step - loss: 0.3994 - accuracy: 0.8149\n",
            "Epoch 36/100\n",
            "49/49 [==============================] - 0s 1ms/step - loss: 0.3991 - accuracy: 0.8212\n",
            "Epoch 37/100\n",
            "49/49 [==============================] - 0s 1ms/step - loss: 0.3837 - accuracy: 0.8298\n",
            "Epoch 38/100\n",
            "49/49 [==============================] - 0s 1ms/step - loss: 0.4065 - accuracy: 0.8123\n",
            "Epoch 39/100\n",
            "49/49 [==============================] - 0s 1ms/step - loss: 0.4051 - accuracy: 0.8032\n",
            "Epoch 40/100\n",
            "49/49 [==============================] - 0s 2ms/step - loss: 0.3934 - accuracy: 0.8227\n",
            "Epoch 41/100\n",
            "49/49 [==============================] - 0s 1ms/step - loss: 0.3982 - accuracy: 0.8152\n",
            "Epoch 42/100\n",
            "49/49 [==============================] - 0s 1ms/step - loss: 0.3885 - accuracy: 0.8215\n",
            "Epoch 43/100\n",
            "49/49 [==============================] - 0s 1ms/step - loss: 0.4175 - accuracy: 0.8079\n",
            "Epoch 44/100\n",
            "49/49 [==============================] - 0s 1ms/step - loss: 0.3881 - accuracy: 0.8173\n",
            "Epoch 45/100\n",
            "49/49 [==============================] - 0s 1ms/step - loss: 0.3945 - accuracy: 0.8118\n",
            "Epoch 46/100\n",
            "49/49 [==============================] - 0s 1ms/step - loss: 0.3936 - accuracy: 0.8181\n",
            "Epoch 47/100\n",
            "49/49 [==============================] - 0s 1ms/step - loss: 0.4007 - accuracy: 0.8054\n",
            "Epoch 48/100\n",
            "49/49 [==============================] - 0s 1ms/step - loss: 0.3959 - accuracy: 0.8173\n",
            "Epoch 49/100\n",
            "49/49 [==============================] - 0s 1ms/step - loss: 0.3978 - accuracy: 0.8151\n",
            "Epoch 50/100\n",
            "49/49 [==============================] - 0s 1ms/step - loss: 0.3825 - accuracy: 0.8189\n",
            "Epoch 51/100\n",
            "49/49 [==============================] - 0s 1ms/step - loss: 0.3867 - accuracy: 0.8271\n",
            "Epoch 52/100\n",
            "49/49 [==============================] - 0s 1ms/step - loss: 0.3984 - accuracy: 0.8129\n",
            "Epoch 53/100\n",
            "49/49 [==============================] - 0s 1ms/step - loss: 0.3951 - accuracy: 0.8211\n",
            "Epoch 54/100\n",
            "49/49 [==============================] - 0s 1ms/step - loss: 0.3731 - accuracy: 0.8232\n",
            "Epoch 55/100\n",
            "49/49 [==============================] - 0s 1ms/step - loss: 0.3928 - accuracy: 0.8141\n",
            "Epoch 56/100\n",
            "49/49 [==============================] - 0s 1ms/step - loss: 0.3861 - accuracy: 0.8186\n",
            "Epoch 57/100\n",
            "49/49 [==============================] - 0s 1ms/step - loss: 0.3973 - accuracy: 0.8112\n",
            "Epoch 58/100\n",
            "49/49 [==============================] - 0s 1ms/step - loss: 0.3870 - accuracy: 0.8252\n",
            "Epoch 59/100\n",
            "49/49 [==============================] - 0s 1ms/step - loss: 0.3897 - accuracy: 0.8213\n",
            "Epoch 60/100\n",
            "49/49 [==============================] - 0s 1ms/step - loss: 0.3833 - accuracy: 0.8202\n",
            "Epoch 61/100\n",
            "49/49 [==============================] - 0s 1ms/step - loss: 0.3831 - accuracy: 0.8266\n",
            "Epoch 62/100\n",
            "49/49 [==============================] - 0s 1ms/step - loss: 0.3744 - accuracy: 0.8273\n",
            "Epoch 63/100\n",
            "49/49 [==============================] - 0s 1ms/step - loss: 0.3856 - accuracy: 0.8215\n",
            "Epoch 64/100\n",
            "49/49 [==============================] - 0s 1ms/step - loss: 0.3828 - accuracy: 0.8173\n",
            "Epoch 65/100\n",
            "49/49 [==============================] - 0s 1ms/step - loss: 0.3815 - accuracy: 0.8218\n",
            "Epoch 66/100\n",
            "49/49 [==============================] - 0s 2ms/step - loss: 0.3673 - accuracy: 0.8242\n",
            "Epoch 67/100\n",
            "49/49 [==============================] - 0s 1ms/step - loss: 0.3943 - accuracy: 0.8147\n",
            "Epoch 68/100\n",
            "49/49 [==============================] - 0s 1ms/step - loss: 0.3887 - accuracy: 0.8138\n",
            "Epoch 69/100\n",
            "49/49 [==============================] - 0s 2ms/step - loss: 0.3801 - accuracy: 0.8224\n",
            "Epoch 70/100\n",
            "49/49 [==============================] - 0s 1ms/step - loss: 0.3908 - accuracy: 0.8179\n",
            "Epoch 71/100\n",
            "49/49 [==============================] - 0s 1ms/step - loss: 0.3775 - accuracy: 0.8269\n",
            "Epoch 72/100\n",
            "49/49 [==============================] - 0s 1ms/step - loss: 0.3857 - accuracy: 0.8206\n",
            "Epoch 73/100\n",
            "49/49 [==============================] - 0s 1ms/step - loss: 0.3786 - accuracy: 0.8231\n",
            "Epoch 74/100\n",
            "49/49 [==============================] - 0s 1ms/step - loss: 0.3785 - accuracy: 0.8227\n",
            "Epoch 75/100\n",
            "49/49 [==============================] - 0s 1ms/step - loss: 0.3803 - accuracy: 0.8173\n",
            "Epoch 76/100\n",
            "49/49 [==============================] - 0s 1ms/step - loss: 0.3879 - accuracy: 0.8239\n",
            "Epoch 77/100\n",
            "49/49 [==============================] - 0s 1ms/step - loss: 0.3874 - accuracy: 0.8207\n",
            "Epoch 78/100\n",
            "49/49 [==============================] - 0s 1ms/step - loss: 0.3801 - accuracy: 0.8216\n",
            "Epoch 79/100\n",
            "49/49 [==============================] - 0s 1ms/step - loss: 0.4017 - accuracy: 0.8114\n",
            "Epoch 80/100\n",
            "49/49 [==============================] - 0s 1ms/step - loss: 0.3722 - accuracy: 0.8295\n",
            "Epoch 81/100\n",
            "49/49 [==============================] - 0s 1ms/step - loss: 0.3759 - accuracy: 0.8238\n",
            "Epoch 82/100\n",
            "49/49 [==============================] - 0s 1ms/step - loss: 0.3780 - accuracy: 0.8284\n",
            "Epoch 83/100\n",
            "49/49 [==============================] - 0s 1ms/step - loss: 0.3725 - accuracy: 0.8320\n",
            "Epoch 84/100\n",
            "49/49 [==============================] - 0s 2ms/step - loss: 0.3801 - accuracy: 0.8198\n",
            "Epoch 85/100\n",
            "49/49 [==============================] - 0s 1ms/step - loss: 0.3791 - accuracy: 0.8266\n",
            "Epoch 86/100\n",
            "49/49 [==============================] - 0s 1ms/step - loss: 0.3804 - accuracy: 0.8289\n",
            "Epoch 87/100\n",
            "49/49 [==============================] - 0s 1ms/step - loss: 0.3697 - accuracy: 0.8296\n",
            "Epoch 88/100\n",
            "49/49 [==============================] - 0s 1ms/step - loss: 0.3802 - accuracy: 0.8291\n",
            "Epoch 89/100\n",
            "49/49 [==============================] - 0s 1ms/step - loss: 0.3860 - accuracy: 0.8163\n",
            "Epoch 90/100\n",
            "49/49 [==============================] - 0s 1ms/step - loss: 0.3826 - accuracy: 0.8209\n",
            "Epoch 91/100\n",
            "49/49 [==============================] - 0s 1ms/step - loss: 0.3835 - accuracy: 0.8192\n",
            "Epoch 92/100\n",
            "49/49 [==============================] - 0s 1ms/step - loss: 0.3647 - accuracy: 0.8370\n",
            "Epoch 93/100\n",
            "49/49 [==============================] - 0s 1ms/step - loss: 0.3759 - accuracy: 0.8233\n",
            "Epoch 94/100\n",
            "49/49 [==============================] - 0s 1ms/step - loss: 0.3826 - accuracy: 0.8239\n",
            "Epoch 95/100\n",
            "49/49 [==============================] - 0s 1ms/step - loss: 0.3891 - accuracy: 0.8278\n",
            "Epoch 96/100\n",
            "49/49 [==============================] - 0s 1ms/step - loss: 0.3856 - accuracy: 0.8168\n",
            "Epoch 97/100\n",
            "49/49 [==============================] - 0s 1ms/step - loss: 0.3694 - accuracy: 0.8254\n",
            "Epoch 98/100\n",
            "49/49 [==============================] - 0s 1ms/step - loss: 0.3771 - accuracy: 0.8245\n",
            "Epoch 99/100\n",
            "49/49 [==============================] - 0s 1ms/step - loss: 0.3699 - accuracy: 0.8283\n",
            "Epoch 100/100\n",
            "49/49 [==============================] - 0s 1ms/step - loss: 0.3800 - accuracy: 0.8316\n"
          ],
          "name": "stdout"
        },
        {
          "output_type": "execute_result",
          "data": {
            "text/plain": [
              "<tensorflow.python.keras.callbacks.History at 0x7f9704812160>"
            ]
          },
          "metadata": {
            "tags": []
          },
          "execution_count": 24
        }
      ]
    },
    {
      "cell_type": "code",
      "metadata": {
        "id": "MF96DltI_vXS"
      },
      "source": [
        "# Predict the X_test results\r\n",
        "y_pred = model.predict(X_test)"
      ],
      "execution_count": 25,
      "outputs": []
    },
    {
      "cell_type": "code",
      "metadata": {
        "colab": {
          "base_uri": "https://localhost:8080/"
        },
        "id": "YeG_n0XSAEFy",
        "outputId": "9eb92b7b-645c-476c-af4f-7002b26c4331"
      },
      "source": [
        "y_pred = (y_pred > 0.5)\r\n",
        "y_pred"
      ],
      "execution_count": 26,
      "outputs": [
        {
          "output_type": "execute_result",
          "data": {
            "text/plain": [
              "array([[ True],\n",
              "       [ True],\n",
              "       [False],\n",
              "       ...,\n",
              "       [ True],\n",
              "       [ True],\n",
              "       [False]])"
            ]
          },
          "metadata": {
            "tags": []
          },
          "execution_count": 26
        }
      ]
    },
    {
      "cell_type": "code",
      "metadata": {
        "colab": {
          "base_uri": "https://localhost:8080/"
        },
        "id": "39YdXJ88APhW",
        "outputId": "4769ca5f-5f2c-4ff1-f901-55d73a3c7f10"
      },
      "source": [
        "# Check the accuracy score for final model\r\n",
        "from sklearn.metrics import accuracy_score\r\n",
        "print(accuracy_score(y_test,y_pred))"
      ],
      "execution_count": 27,
      "outputs": [
        {
          "output_type": "stream",
          "text": [
            "0.7788605697151424\n"
          ],
          "name": "stdout"
        }
      ]
    },
    {
      "cell_type": "code",
      "metadata": {
        "id": "4paZD0zW3tO8"
      },
      "source": [
        ""
      ],
      "execution_count": 27,
      "outputs": []
    }
  ]
}